{
 "cells": [
  {
   "cell_type": "code",
   "execution_count": 12,
   "id": "initial_id",
   "metadata": {
    "collapsed": true,
    "ExecuteTime": {
     "end_time": "2025-06-03T13:04:04.639405500Z",
     "start_time": "2025-06-03T13:04:04.614026300Z"
    }
   },
   "outputs": [],
   "source": [
    "import pandas as pd"
   ]
  },
  {
   "cell_type": "code",
   "execution_count": 3,
   "outputs": [
    {
     "data": {
      "text/plain": "       Type            Name  Age  Breed1  Breed2  Gender  Color1  Color2  \\\n0         2          Nibble    3     299       0       1       1       7   \n1         2     No Name Yet    1     265       0       1       1       2   \n2         1          Brisco    1     307       0       1       2       7   \n3         1            Miko    4     307       0       2       1       2   \n4         1          Hunter    1     307       0       1       1       0   \n...     ...             ...  ...     ...     ...     ...     ...     ...   \n14988     2             NaN    2     266       0       3       1       0   \n14989     2  Serato & Eddie   60     265     264       3       1       4   \n14990     2         Monkies    2     265     266       3       5       6   \n14991     2         Ms Daym    9     266       0       2       4       7   \n14992     1            Fili    1     307     307       1       2       0   \n\n       Color3  MaturitySize  ...  Health  Quantity  Fee  State  \\\n0           0             1  ...       1         1  100  41326   \n1           0             2  ...       1         1    0  41401   \n2           0             2  ...       1         1    0  41326   \n3           0             2  ...       1         1  150  41401   \n4           0             2  ...       1         1    0  41326   \n...       ...           ...  ...     ...       ...  ...    ...   \n14988       0             2  ...       1         4    0  41326   \n14989       7             2  ...       1         2    0  41326   \n14990       7             3  ...       1         5   30  41326   \n14991       0             1  ...       1         1    0  41336   \n14992       0             2  ...       1         1    0  41332   \n\n                              RescuerID  VideoAmt  \\\n0      8480853f516546f6cf33aa88cd76c379         0   \n1      3082c7125d8fb66f7dd4bff4192c8b14         0   \n2      fa90fa5b1ee11c86938398b60abc32cb         0   \n3      9238e4f44c71a75282e62f7136c6b240         0   \n4      95481e953f8aed9ec3d16fc4509537e8         0   \n...                                 ...       ...   \n14988  61c84bd7bcb6fb31d2d480b1bcf9682e         0   \n14989  1d5096c4a5e159a3b750c5cfcf6ceabf         0   \n14990  6f40a7acfad5cc0bb3e44591ea446c05         0   \n14991  c311c0c569245baa147d91fa4e351ae4         0   \n14992  9ed1d5493d223eaa5024c1a031dbc9c2         0   \n\n                                             Description      PetID PhotoAmt  \\\n0      Nibble is a 3+ month old ball of cuteness. He ...  86e1089a3      1.0   \n1      I just found it alone yesterday near my apartm...  6296e909a      2.0   \n2      Their pregnant mother was dumped by her irresp...  3422e4906      7.0   \n3      Good guard dog, very alert, active, obedience ...  5842f1ff5      8.0   \n4      This handsome yet cute boy is up for adoption....  850a43f90      3.0   \n...                                                  ...        ...      ...   \n14988  I have 4 kittens that need to be adopt urgentl...  dc0935a84      3.0   \n14989  Serato(female cat- 3 color) is 4 years old and...  a01ab5b30      3.0   \n14990  Mix breed, good temperament kittens. Love huma...  d981b6395      5.0   \n14991  she is very shy..adventures and independent..s...  e4da1c9e4      3.0   \n14992  Fili just loves laying around and also loves b...  a83d95ead      1.0   \n\n       AdoptionSpeed  \n0                  2  \n1                  0  \n2                  3  \n3                  2  \n4                  2  \n...              ...  \n14988              2  \n14989              4  \n14990              3  \n14991              4  \n14992              3  \n\n[14993 rows x 24 columns]",
      "text/html": "<div>\n<style scoped>\n    .dataframe tbody tr th:only-of-type {\n        vertical-align: middle;\n    }\n\n    .dataframe tbody tr th {\n        vertical-align: top;\n    }\n\n    .dataframe thead th {\n        text-align: right;\n    }\n</style>\n<table border=\"1\" class=\"dataframe\">\n  <thead>\n    <tr style=\"text-align: right;\">\n      <th></th>\n      <th>Type</th>\n      <th>Name</th>\n      <th>Age</th>\n      <th>Breed1</th>\n      <th>Breed2</th>\n      <th>Gender</th>\n      <th>Color1</th>\n      <th>Color2</th>\n      <th>Color3</th>\n      <th>MaturitySize</th>\n      <th>...</th>\n      <th>Health</th>\n      <th>Quantity</th>\n      <th>Fee</th>\n      <th>State</th>\n      <th>RescuerID</th>\n      <th>VideoAmt</th>\n      <th>Description</th>\n      <th>PetID</th>\n      <th>PhotoAmt</th>\n      <th>AdoptionSpeed</th>\n    </tr>\n  </thead>\n  <tbody>\n    <tr>\n      <th>0</th>\n      <td>2</td>\n      <td>Nibble</td>\n      <td>3</td>\n      <td>299</td>\n      <td>0</td>\n      <td>1</td>\n      <td>1</td>\n      <td>7</td>\n      <td>0</td>\n      <td>1</td>\n      <td>...</td>\n      <td>1</td>\n      <td>1</td>\n      <td>100</td>\n      <td>41326</td>\n      <td>8480853f516546f6cf33aa88cd76c379</td>\n      <td>0</td>\n      <td>Nibble is a 3+ month old ball of cuteness. He ...</td>\n      <td>86e1089a3</td>\n      <td>1.0</td>\n      <td>2</td>\n    </tr>\n    <tr>\n      <th>1</th>\n      <td>2</td>\n      <td>No Name Yet</td>\n      <td>1</td>\n      <td>265</td>\n      <td>0</td>\n      <td>1</td>\n      <td>1</td>\n      <td>2</td>\n      <td>0</td>\n      <td>2</td>\n      <td>...</td>\n      <td>1</td>\n      <td>1</td>\n      <td>0</td>\n      <td>41401</td>\n      <td>3082c7125d8fb66f7dd4bff4192c8b14</td>\n      <td>0</td>\n      <td>I just found it alone yesterday near my apartm...</td>\n      <td>6296e909a</td>\n      <td>2.0</td>\n      <td>0</td>\n    </tr>\n    <tr>\n      <th>2</th>\n      <td>1</td>\n      <td>Brisco</td>\n      <td>1</td>\n      <td>307</td>\n      <td>0</td>\n      <td>1</td>\n      <td>2</td>\n      <td>7</td>\n      <td>0</td>\n      <td>2</td>\n      <td>...</td>\n      <td>1</td>\n      <td>1</td>\n      <td>0</td>\n      <td>41326</td>\n      <td>fa90fa5b1ee11c86938398b60abc32cb</td>\n      <td>0</td>\n      <td>Their pregnant mother was dumped by her irresp...</td>\n      <td>3422e4906</td>\n      <td>7.0</td>\n      <td>3</td>\n    </tr>\n    <tr>\n      <th>3</th>\n      <td>1</td>\n      <td>Miko</td>\n      <td>4</td>\n      <td>307</td>\n      <td>0</td>\n      <td>2</td>\n      <td>1</td>\n      <td>2</td>\n      <td>0</td>\n      <td>2</td>\n      <td>...</td>\n      <td>1</td>\n      <td>1</td>\n      <td>150</td>\n      <td>41401</td>\n      <td>9238e4f44c71a75282e62f7136c6b240</td>\n      <td>0</td>\n      <td>Good guard dog, very alert, active, obedience ...</td>\n      <td>5842f1ff5</td>\n      <td>8.0</td>\n      <td>2</td>\n    </tr>\n    <tr>\n      <th>4</th>\n      <td>1</td>\n      <td>Hunter</td>\n      <td>1</td>\n      <td>307</td>\n      <td>0</td>\n      <td>1</td>\n      <td>1</td>\n      <td>0</td>\n      <td>0</td>\n      <td>2</td>\n      <td>...</td>\n      <td>1</td>\n      <td>1</td>\n      <td>0</td>\n      <td>41326</td>\n      <td>95481e953f8aed9ec3d16fc4509537e8</td>\n      <td>0</td>\n      <td>This handsome yet cute boy is up for adoption....</td>\n      <td>850a43f90</td>\n      <td>3.0</td>\n      <td>2</td>\n    </tr>\n    <tr>\n      <th>...</th>\n      <td>...</td>\n      <td>...</td>\n      <td>...</td>\n      <td>...</td>\n      <td>...</td>\n      <td>...</td>\n      <td>...</td>\n      <td>...</td>\n      <td>...</td>\n      <td>...</td>\n      <td>...</td>\n      <td>...</td>\n      <td>...</td>\n      <td>...</td>\n      <td>...</td>\n      <td>...</td>\n      <td>...</td>\n      <td>...</td>\n      <td>...</td>\n      <td>...</td>\n      <td>...</td>\n    </tr>\n    <tr>\n      <th>14988</th>\n      <td>2</td>\n      <td>NaN</td>\n      <td>2</td>\n      <td>266</td>\n      <td>0</td>\n      <td>3</td>\n      <td>1</td>\n      <td>0</td>\n      <td>0</td>\n      <td>2</td>\n      <td>...</td>\n      <td>1</td>\n      <td>4</td>\n      <td>0</td>\n      <td>41326</td>\n      <td>61c84bd7bcb6fb31d2d480b1bcf9682e</td>\n      <td>0</td>\n      <td>I have 4 kittens that need to be adopt urgentl...</td>\n      <td>dc0935a84</td>\n      <td>3.0</td>\n      <td>2</td>\n    </tr>\n    <tr>\n      <th>14989</th>\n      <td>2</td>\n      <td>Serato &amp; Eddie</td>\n      <td>60</td>\n      <td>265</td>\n      <td>264</td>\n      <td>3</td>\n      <td>1</td>\n      <td>4</td>\n      <td>7</td>\n      <td>2</td>\n      <td>...</td>\n      <td>1</td>\n      <td>2</td>\n      <td>0</td>\n      <td>41326</td>\n      <td>1d5096c4a5e159a3b750c5cfcf6ceabf</td>\n      <td>0</td>\n      <td>Serato(female cat- 3 color) is 4 years old and...</td>\n      <td>a01ab5b30</td>\n      <td>3.0</td>\n      <td>4</td>\n    </tr>\n    <tr>\n      <th>14990</th>\n      <td>2</td>\n      <td>Monkies</td>\n      <td>2</td>\n      <td>265</td>\n      <td>266</td>\n      <td>3</td>\n      <td>5</td>\n      <td>6</td>\n      <td>7</td>\n      <td>3</td>\n      <td>...</td>\n      <td>1</td>\n      <td>5</td>\n      <td>30</td>\n      <td>41326</td>\n      <td>6f40a7acfad5cc0bb3e44591ea446c05</td>\n      <td>0</td>\n      <td>Mix breed, good temperament kittens. Love huma...</td>\n      <td>d981b6395</td>\n      <td>5.0</td>\n      <td>3</td>\n    </tr>\n    <tr>\n      <th>14991</th>\n      <td>2</td>\n      <td>Ms Daym</td>\n      <td>9</td>\n      <td>266</td>\n      <td>0</td>\n      <td>2</td>\n      <td>4</td>\n      <td>7</td>\n      <td>0</td>\n      <td>1</td>\n      <td>...</td>\n      <td>1</td>\n      <td>1</td>\n      <td>0</td>\n      <td>41336</td>\n      <td>c311c0c569245baa147d91fa4e351ae4</td>\n      <td>0</td>\n      <td>she is very shy..adventures and independent..s...</td>\n      <td>e4da1c9e4</td>\n      <td>3.0</td>\n      <td>4</td>\n    </tr>\n    <tr>\n      <th>14992</th>\n      <td>1</td>\n      <td>Fili</td>\n      <td>1</td>\n      <td>307</td>\n      <td>307</td>\n      <td>1</td>\n      <td>2</td>\n      <td>0</td>\n      <td>0</td>\n      <td>2</td>\n      <td>...</td>\n      <td>1</td>\n      <td>1</td>\n      <td>0</td>\n      <td>41332</td>\n      <td>9ed1d5493d223eaa5024c1a031dbc9c2</td>\n      <td>0</td>\n      <td>Fili just loves laying around and also loves b...</td>\n      <td>a83d95ead</td>\n      <td>1.0</td>\n      <td>3</td>\n    </tr>\n  </tbody>\n</table>\n<p>14993 rows × 24 columns</p>\n</div>"
     },
     "execution_count": 3,
     "metadata": {},
     "output_type": "execute_result"
    }
   ],
   "source": [
    "df = pd.read_csv('./data/train.csv')\n",
    "df"
   ],
   "metadata": {
    "collapsed": false,
    "ExecuteTime": {
     "end_time": "2025-06-02T20:48:13.252020800Z",
     "start_time": "2025-06-02T20:48:11.290892Z"
    }
   },
   "id": "5194261f61cd6338"
  },
  {
   "cell_type": "code",
   "execution_count": 4,
   "outputs": [
    {
     "name": "stdout",
     "output_type": "stream",
     "text": [
      "  Type         Name  Age  Breed1  Breed2  Gender  Color1  Color2  Color3  \\\n",
      "0  Cat       Nibble    3     299       0    Male       1       7       0   \n",
      "1  Cat  No Name Yet    1     265       0    Male       1       2       0   \n",
      "2  Dog       Brisco    1     307       0    Male       2       7       0   \n",
      "3  Dog         Miko    4     307       0  Female       1       2       0   \n",
      "4  Dog       Hunter    1     307       0    Male       1       0       0   \n",
      "\n",
      "  MaturitySize  ...   Health Quantity  Fee  State  \\\n",
      "0        Small  ...  Healthy        1  100  41326   \n",
      "1       Medium  ...  Healthy        1    0  41401   \n",
      "2       Medium  ...  Healthy        1    0  41326   \n",
      "3       Medium  ...  Healthy        1  150  41401   \n",
      "4       Medium  ...  Healthy        1    0  41326   \n",
      "\n",
      "                          RescuerID  VideoAmt  \\\n",
      "0  8480853f516546f6cf33aa88cd76c379         0   \n",
      "1  3082c7125d8fb66f7dd4bff4192c8b14         0   \n",
      "2  fa90fa5b1ee11c86938398b60abc32cb         0   \n",
      "3  9238e4f44c71a75282e62f7136c6b240         0   \n",
      "4  95481e953f8aed9ec3d16fc4509537e8         0   \n",
      "\n",
      "                                         Description      PetID PhotoAmt  \\\n",
      "0  Nibble is a 3+ month old ball of cuteness. He ...  86e1089a3      1.0   \n",
      "1  I just found it alone yesterday near my apartm...  6296e909a      2.0   \n",
      "2  Their pregnant mother was dumped by her irresp...  3422e4906      7.0   \n",
      "3  Good guard dog, very alert, active, obedience ...  5842f1ff5      8.0   \n",
      "4  This handsome yet cute boy is up for adoption....  850a43f90      3.0   \n",
      "\n",
      "   AdoptionSpeed  \n",
      "0      8-30 Days  \n",
      "1       Same Day  \n",
      "2     31-90 Days  \n",
      "3      8-30 Days  \n",
      "4      8-30 Days  \n",
      "\n",
      "[5 rows x 24 columns]\n"
     ]
    }
   ],
   "source": [
    "# Mapping dictionaries\n",
    "type_map = {1: 'Dog', 2: 'Cat'}\n",
    "gender_map = {1: 'Male', 2: 'Female', 3: 'Mixed'}\n",
    "maturity_size_map = {1: 'Small', 2: 'Medium', 3: 'Large', 4: 'Extra Large', 0: 'Not Specified'}\n",
    "fur_length_map = {1: 'Short', 2: 'Medium', 3: 'Long', 0: 'Not Specified'}\n",
    "vaccinated_map = {1: 'Yes', 2: 'No', 3: 'Not Sure'}\n",
    "dewormed_map = {1: 'Yes', 2: 'No', 3: 'Not Sure'}\n",
    "sterilized_map = {1: 'Yes', 2: 'No', 3: 'Not Sure'}\n",
    "health_map = {1: 'Healthy', 2: 'Minor Injury', 3: 'Serious Injury', 0: 'Not Specified'}\n",
    "adoption_speed_map = {\n",
    "    0: 'Same Day',\n",
    "    1: '1-7 Days',\n",
    "    2: '8-30 Days',\n",
    "    3: '31-90 Days',\n",
    "    4: 'Over 100 Days'\n",
    "}\n",
    "\n",
    "# Apply mappings\n",
    "df['Type'] = df['Type'].map(type_map)\n",
    "df['Gender'] = df['Gender'].map(gender_map)\n",
    "df['MaturitySize'] = df['MaturitySize'].map(maturity_size_map)\n",
    "df['FurLength'] = df['FurLength'].map(fur_length_map)\n",
    "df['Vaccinated'] = df['Vaccinated'].map(vaccinated_map)\n",
    "df['Dewormed'] = df['Dewormed'].map(dewormed_map)\n",
    "df['Sterilized'] = df['Sterilized'].map(sterilized_map)\n",
    "df['Health'] = df['Health'].map(health_map)\n",
    "df['AdoptionSpeed'] = df['AdoptionSpeed'].map(adoption_speed_map)\n",
    "\n",
    "# View the transformed DataFrame\n",
    "print(df.head())"
   ],
   "metadata": {
    "collapsed": false,
    "ExecuteTime": {
     "end_time": "2025-06-02T20:56:32.078281800Z",
     "start_time": "2025-06-02T20:56:31.988295200Z"
    }
   },
   "id": "48f2adadf446c91e"
  },
  {
   "cell_type": "code",
   "execution_count": 5,
   "outputs": [
    {
     "data": {
      "text/plain": "      Type            Name  Age  Breed1  Breed2  Gender  Color1  Color2  \\\n0      Cat          Nibble    3     299       0    Male       1       7   \n1      Cat     No Name Yet    1     265       0    Male       1       2   \n2      Dog          Brisco    1     307       0    Male       2       7   \n3      Dog            Miko    4     307       0  Female       1       2   \n4      Dog          Hunter    1     307       0    Male       1       0   \n...    ...             ...  ...     ...     ...     ...     ...     ...   \n14988  Cat             NaN    2     266       0   Mixed       1       0   \n14989  Cat  Serato & Eddie   60     265     264   Mixed       1       4   \n14990  Cat         Monkies    2     265     266   Mixed       5       6   \n14991  Cat         Ms Daym    9     266       0  Female       4       7   \n14992  Dog            Fili    1     307     307    Male       2       0   \n\n       Color3 MaturitySize  ...   Health Quantity  Fee  State  \\\n0           0        Small  ...  Healthy        1  100  41326   \n1           0       Medium  ...  Healthy        1    0  41401   \n2           0       Medium  ...  Healthy        1    0  41326   \n3           0       Medium  ...  Healthy        1  150  41401   \n4           0       Medium  ...  Healthy        1    0  41326   \n...       ...          ...  ...      ...      ...  ...    ...   \n14988       0       Medium  ...  Healthy        4    0  41326   \n14989       7       Medium  ...  Healthy        2    0  41326   \n14990       7        Large  ...  Healthy        5   30  41326   \n14991       0        Small  ...  Healthy        1    0  41336   \n14992       0       Medium  ...  Healthy        1    0  41332   \n\n                              RescuerID  VideoAmt  \\\n0      8480853f516546f6cf33aa88cd76c379         0   \n1      3082c7125d8fb66f7dd4bff4192c8b14         0   \n2      fa90fa5b1ee11c86938398b60abc32cb         0   \n3      9238e4f44c71a75282e62f7136c6b240         0   \n4      95481e953f8aed9ec3d16fc4509537e8         0   \n...                                 ...       ...   \n14988  61c84bd7bcb6fb31d2d480b1bcf9682e         0   \n14989  1d5096c4a5e159a3b750c5cfcf6ceabf         0   \n14990  6f40a7acfad5cc0bb3e44591ea446c05         0   \n14991  c311c0c569245baa147d91fa4e351ae4         0   \n14992  9ed1d5493d223eaa5024c1a031dbc9c2         0   \n\n                                             Description      PetID PhotoAmt  \\\n0      Nibble is a 3+ month old ball of cuteness. He ...  86e1089a3      1.0   \n1      I just found it alone yesterday near my apartm...  6296e909a      2.0   \n2      Their pregnant mother was dumped by her irresp...  3422e4906      7.0   \n3      Good guard dog, very alert, active, obedience ...  5842f1ff5      8.0   \n4      This handsome yet cute boy is up for adoption....  850a43f90      3.0   \n...                                                  ...        ...      ...   \n14988  I have 4 kittens that need to be adopt urgentl...  dc0935a84      3.0   \n14989  Serato(female cat- 3 color) is 4 years old and...  a01ab5b30      3.0   \n14990  Mix breed, good temperament kittens. Love huma...  d981b6395      5.0   \n14991  she is very shy..adventures and independent..s...  e4da1c9e4      3.0   \n14992  Fili just loves laying around and also loves b...  a83d95ead      1.0   \n\n       AdoptionSpeed  \n0          8-30 Days  \n1           Same Day  \n2         31-90 Days  \n3          8-30 Days  \n4          8-30 Days  \n...              ...  \n14988      8-30 Days  \n14989  Over 100 Days  \n14990     31-90 Days  \n14991  Over 100 Days  \n14992     31-90 Days  \n\n[14993 rows x 24 columns]",
      "text/html": "<div>\n<style scoped>\n    .dataframe tbody tr th:only-of-type {\n        vertical-align: middle;\n    }\n\n    .dataframe tbody tr th {\n        vertical-align: top;\n    }\n\n    .dataframe thead th {\n        text-align: right;\n    }\n</style>\n<table border=\"1\" class=\"dataframe\">\n  <thead>\n    <tr style=\"text-align: right;\">\n      <th></th>\n      <th>Type</th>\n      <th>Name</th>\n      <th>Age</th>\n      <th>Breed1</th>\n      <th>Breed2</th>\n      <th>Gender</th>\n      <th>Color1</th>\n      <th>Color2</th>\n      <th>Color3</th>\n      <th>MaturitySize</th>\n      <th>...</th>\n      <th>Health</th>\n      <th>Quantity</th>\n      <th>Fee</th>\n      <th>State</th>\n      <th>RescuerID</th>\n      <th>VideoAmt</th>\n      <th>Description</th>\n      <th>PetID</th>\n      <th>PhotoAmt</th>\n      <th>AdoptionSpeed</th>\n    </tr>\n  </thead>\n  <tbody>\n    <tr>\n      <th>0</th>\n      <td>Cat</td>\n      <td>Nibble</td>\n      <td>3</td>\n      <td>299</td>\n      <td>0</td>\n      <td>Male</td>\n      <td>1</td>\n      <td>7</td>\n      <td>0</td>\n      <td>Small</td>\n      <td>...</td>\n      <td>Healthy</td>\n      <td>1</td>\n      <td>100</td>\n      <td>41326</td>\n      <td>8480853f516546f6cf33aa88cd76c379</td>\n      <td>0</td>\n      <td>Nibble is a 3+ month old ball of cuteness. He ...</td>\n      <td>86e1089a3</td>\n      <td>1.0</td>\n      <td>8-30 Days</td>\n    </tr>\n    <tr>\n      <th>1</th>\n      <td>Cat</td>\n      <td>No Name Yet</td>\n      <td>1</td>\n      <td>265</td>\n      <td>0</td>\n      <td>Male</td>\n      <td>1</td>\n      <td>2</td>\n      <td>0</td>\n      <td>Medium</td>\n      <td>...</td>\n      <td>Healthy</td>\n      <td>1</td>\n      <td>0</td>\n      <td>41401</td>\n      <td>3082c7125d8fb66f7dd4bff4192c8b14</td>\n      <td>0</td>\n      <td>I just found it alone yesterday near my apartm...</td>\n      <td>6296e909a</td>\n      <td>2.0</td>\n      <td>Same Day</td>\n    </tr>\n    <tr>\n      <th>2</th>\n      <td>Dog</td>\n      <td>Brisco</td>\n      <td>1</td>\n      <td>307</td>\n      <td>0</td>\n      <td>Male</td>\n      <td>2</td>\n      <td>7</td>\n      <td>0</td>\n      <td>Medium</td>\n      <td>...</td>\n      <td>Healthy</td>\n      <td>1</td>\n      <td>0</td>\n      <td>41326</td>\n      <td>fa90fa5b1ee11c86938398b60abc32cb</td>\n      <td>0</td>\n      <td>Their pregnant mother was dumped by her irresp...</td>\n      <td>3422e4906</td>\n      <td>7.0</td>\n      <td>31-90 Days</td>\n    </tr>\n    <tr>\n      <th>3</th>\n      <td>Dog</td>\n      <td>Miko</td>\n      <td>4</td>\n      <td>307</td>\n      <td>0</td>\n      <td>Female</td>\n      <td>1</td>\n      <td>2</td>\n      <td>0</td>\n      <td>Medium</td>\n      <td>...</td>\n      <td>Healthy</td>\n      <td>1</td>\n      <td>150</td>\n      <td>41401</td>\n      <td>9238e4f44c71a75282e62f7136c6b240</td>\n      <td>0</td>\n      <td>Good guard dog, very alert, active, obedience ...</td>\n      <td>5842f1ff5</td>\n      <td>8.0</td>\n      <td>8-30 Days</td>\n    </tr>\n    <tr>\n      <th>4</th>\n      <td>Dog</td>\n      <td>Hunter</td>\n      <td>1</td>\n      <td>307</td>\n      <td>0</td>\n      <td>Male</td>\n      <td>1</td>\n      <td>0</td>\n      <td>0</td>\n      <td>Medium</td>\n      <td>...</td>\n      <td>Healthy</td>\n      <td>1</td>\n      <td>0</td>\n      <td>41326</td>\n      <td>95481e953f8aed9ec3d16fc4509537e8</td>\n      <td>0</td>\n      <td>This handsome yet cute boy is up for adoption....</td>\n      <td>850a43f90</td>\n      <td>3.0</td>\n      <td>8-30 Days</td>\n    </tr>\n    <tr>\n      <th>...</th>\n      <td>...</td>\n      <td>...</td>\n      <td>...</td>\n      <td>...</td>\n      <td>...</td>\n      <td>...</td>\n      <td>...</td>\n      <td>...</td>\n      <td>...</td>\n      <td>...</td>\n      <td>...</td>\n      <td>...</td>\n      <td>...</td>\n      <td>...</td>\n      <td>...</td>\n      <td>...</td>\n      <td>...</td>\n      <td>...</td>\n      <td>...</td>\n      <td>...</td>\n      <td>...</td>\n    </tr>\n    <tr>\n      <th>14988</th>\n      <td>Cat</td>\n      <td>NaN</td>\n      <td>2</td>\n      <td>266</td>\n      <td>0</td>\n      <td>Mixed</td>\n      <td>1</td>\n      <td>0</td>\n      <td>0</td>\n      <td>Medium</td>\n      <td>...</td>\n      <td>Healthy</td>\n      <td>4</td>\n      <td>0</td>\n      <td>41326</td>\n      <td>61c84bd7bcb6fb31d2d480b1bcf9682e</td>\n      <td>0</td>\n      <td>I have 4 kittens that need to be adopt urgentl...</td>\n      <td>dc0935a84</td>\n      <td>3.0</td>\n      <td>8-30 Days</td>\n    </tr>\n    <tr>\n      <th>14989</th>\n      <td>Cat</td>\n      <td>Serato &amp; Eddie</td>\n      <td>60</td>\n      <td>265</td>\n      <td>264</td>\n      <td>Mixed</td>\n      <td>1</td>\n      <td>4</td>\n      <td>7</td>\n      <td>Medium</td>\n      <td>...</td>\n      <td>Healthy</td>\n      <td>2</td>\n      <td>0</td>\n      <td>41326</td>\n      <td>1d5096c4a5e159a3b750c5cfcf6ceabf</td>\n      <td>0</td>\n      <td>Serato(female cat- 3 color) is 4 years old and...</td>\n      <td>a01ab5b30</td>\n      <td>3.0</td>\n      <td>Over 100 Days</td>\n    </tr>\n    <tr>\n      <th>14990</th>\n      <td>Cat</td>\n      <td>Monkies</td>\n      <td>2</td>\n      <td>265</td>\n      <td>266</td>\n      <td>Mixed</td>\n      <td>5</td>\n      <td>6</td>\n      <td>7</td>\n      <td>Large</td>\n      <td>...</td>\n      <td>Healthy</td>\n      <td>5</td>\n      <td>30</td>\n      <td>41326</td>\n      <td>6f40a7acfad5cc0bb3e44591ea446c05</td>\n      <td>0</td>\n      <td>Mix breed, good temperament kittens. Love huma...</td>\n      <td>d981b6395</td>\n      <td>5.0</td>\n      <td>31-90 Days</td>\n    </tr>\n    <tr>\n      <th>14991</th>\n      <td>Cat</td>\n      <td>Ms Daym</td>\n      <td>9</td>\n      <td>266</td>\n      <td>0</td>\n      <td>Female</td>\n      <td>4</td>\n      <td>7</td>\n      <td>0</td>\n      <td>Small</td>\n      <td>...</td>\n      <td>Healthy</td>\n      <td>1</td>\n      <td>0</td>\n      <td>41336</td>\n      <td>c311c0c569245baa147d91fa4e351ae4</td>\n      <td>0</td>\n      <td>she is very shy..adventures and independent..s...</td>\n      <td>e4da1c9e4</td>\n      <td>3.0</td>\n      <td>Over 100 Days</td>\n    </tr>\n    <tr>\n      <th>14992</th>\n      <td>Dog</td>\n      <td>Fili</td>\n      <td>1</td>\n      <td>307</td>\n      <td>307</td>\n      <td>Male</td>\n      <td>2</td>\n      <td>0</td>\n      <td>0</td>\n      <td>Medium</td>\n      <td>...</td>\n      <td>Healthy</td>\n      <td>1</td>\n      <td>0</td>\n      <td>41332</td>\n      <td>9ed1d5493d223eaa5024c1a031dbc9c2</td>\n      <td>0</td>\n      <td>Fili just loves laying around and also loves b...</td>\n      <td>a83d95ead</td>\n      <td>1.0</td>\n      <td>31-90 Days</td>\n    </tr>\n  </tbody>\n</table>\n<p>14993 rows × 24 columns</p>\n</div>"
     },
     "execution_count": 5,
     "metadata": {},
     "output_type": "execute_result"
    }
   ],
   "source": [
    "df\n"
   ],
   "metadata": {
    "collapsed": false,
    "ExecuteTime": {
     "end_time": "2025-06-02T20:56:41.139412900Z",
     "start_time": "2025-06-02T20:56:41.070148800Z"
    }
   },
   "id": "5db6a67cfea2fc33"
  },
  {
   "cell_type": "code",
   "execution_count": 6,
   "outputs": [
    {
     "name": "stdout",
     "output_type": "stream",
     "text": [
      "                 Breed1 Breed2\n",
      "0                 Tabby   None\n",
      "1  Domestic Medium Hair   None\n",
      "2           Mixed Breed   None\n",
      "3           Mixed Breed   None\n",
      "4           Mixed Breed   None\n"
     ]
    }
   ],
   "source": [
    "breed_labels = pd.read_csv('./data/BreedLabels.csv')\n",
    "\n",
    "# Create a mapping dictionary from BreedID to BreedName\n",
    "breed_map = dict(zip(breed_labels['BreedID'], breed_labels['BreedName']))\n",
    "\n",
    "# Map Breed1 and Breed2\n",
    "df['Breed1'] = df['Breed1'].map(breed_map)\n",
    "df['Breed2'] = df['Breed2'].map(breed_map)\n",
    "\n",
    "# You can also fill NaN with 'None' or 'Mixed' if needed\n",
    "df['Breed2'] = df['Breed2'].fillna('None')\n",
    "\n",
    "# Display updated DataFrame\n",
    "print(df[['Breed1', 'Breed2']].head())"
   ],
   "metadata": {
    "collapsed": false,
    "ExecuteTime": {
     "end_time": "2025-06-02T21:01:20.949695900Z",
     "start_time": "2025-06-02T21:01:20.939411800Z"
    }
   },
   "id": "778d3d6376df2a87"
  },
  {
   "cell_type": "code",
   "execution_count": 7,
   "outputs": [
    {
     "data": {
      "text/plain": "      Type            Name  Age                Breed1               Breed2  \\\n0      Cat          Nibble    3                 Tabby                 None   \n1      Cat     No Name Yet    1  Domestic Medium Hair                 None   \n2      Dog          Brisco    1           Mixed Breed                 None   \n3      Dog            Miko    4           Mixed Breed                 None   \n4      Dog          Hunter    1           Mixed Breed                 None   \n...    ...             ...  ...                   ...                  ...   \n14988  Cat             NaN    2   Domestic Short Hair                 None   \n14989  Cat  Serato & Eddie   60  Domestic Medium Hair   Domestic Long Hair   \n14990  Cat         Monkies    2  Domestic Medium Hair  Domestic Short Hair   \n14991  Cat         Ms Daym    9   Domestic Short Hair                 None   \n14992  Dog            Fili    1           Mixed Breed          Mixed Breed   \n\n       Gender  Color1  Color2  Color3 MaturitySize  ...   Health Quantity  \\\n0        Male       1       7       0        Small  ...  Healthy        1   \n1        Male       1       2       0       Medium  ...  Healthy        1   \n2        Male       2       7       0       Medium  ...  Healthy        1   \n3      Female       1       2       0       Medium  ...  Healthy        1   \n4        Male       1       0       0       Medium  ...  Healthy        1   \n...       ...     ...     ...     ...          ...  ...      ...      ...   \n14988   Mixed       1       0       0       Medium  ...  Healthy        4   \n14989   Mixed       1       4       7       Medium  ...  Healthy        2   \n14990   Mixed       5       6       7        Large  ...  Healthy        5   \n14991  Female       4       7       0        Small  ...  Healthy        1   \n14992    Male       2       0       0       Medium  ...  Healthy        1   \n\n       Fee  State                         RescuerID  VideoAmt  \\\n0      100  41326  8480853f516546f6cf33aa88cd76c379         0   \n1        0  41401  3082c7125d8fb66f7dd4bff4192c8b14         0   \n2        0  41326  fa90fa5b1ee11c86938398b60abc32cb         0   \n3      150  41401  9238e4f44c71a75282e62f7136c6b240         0   \n4        0  41326  95481e953f8aed9ec3d16fc4509537e8         0   \n...    ...    ...                               ...       ...   \n14988    0  41326  61c84bd7bcb6fb31d2d480b1bcf9682e         0   \n14989    0  41326  1d5096c4a5e159a3b750c5cfcf6ceabf         0   \n14990   30  41326  6f40a7acfad5cc0bb3e44591ea446c05         0   \n14991    0  41336  c311c0c569245baa147d91fa4e351ae4         0   \n14992    0  41332  9ed1d5493d223eaa5024c1a031dbc9c2         0   \n\n                                             Description      PetID PhotoAmt  \\\n0      Nibble is a 3+ month old ball of cuteness. He ...  86e1089a3      1.0   \n1      I just found it alone yesterday near my apartm...  6296e909a      2.0   \n2      Their pregnant mother was dumped by her irresp...  3422e4906      7.0   \n3      Good guard dog, very alert, active, obedience ...  5842f1ff5      8.0   \n4      This handsome yet cute boy is up for adoption....  850a43f90      3.0   \n...                                                  ...        ...      ...   \n14988  I have 4 kittens that need to be adopt urgentl...  dc0935a84      3.0   \n14989  Serato(female cat- 3 color) is 4 years old and...  a01ab5b30      3.0   \n14990  Mix breed, good temperament kittens. Love huma...  d981b6395      5.0   \n14991  she is very shy..adventures and independent..s...  e4da1c9e4      3.0   \n14992  Fili just loves laying around and also loves b...  a83d95ead      1.0   \n\n       AdoptionSpeed  \n0          8-30 Days  \n1           Same Day  \n2         31-90 Days  \n3          8-30 Days  \n4          8-30 Days  \n...              ...  \n14988      8-30 Days  \n14989  Over 100 Days  \n14990     31-90 Days  \n14991  Over 100 Days  \n14992     31-90 Days  \n\n[14993 rows x 24 columns]",
      "text/html": "<div>\n<style scoped>\n    .dataframe tbody tr th:only-of-type {\n        vertical-align: middle;\n    }\n\n    .dataframe tbody tr th {\n        vertical-align: top;\n    }\n\n    .dataframe thead th {\n        text-align: right;\n    }\n</style>\n<table border=\"1\" class=\"dataframe\">\n  <thead>\n    <tr style=\"text-align: right;\">\n      <th></th>\n      <th>Type</th>\n      <th>Name</th>\n      <th>Age</th>\n      <th>Breed1</th>\n      <th>Breed2</th>\n      <th>Gender</th>\n      <th>Color1</th>\n      <th>Color2</th>\n      <th>Color3</th>\n      <th>MaturitySize</th>\n      <th>...</th>\n      <th>Health</th>\n      <th>Quantity</th>\n      <th>Fee</th>\n      <th>State</th>\n      <th>RescuerID</th>\n      <th>VideoAmt</th>\n      <th>Description</th>\n      <th>PetID</th>\n      <th>PhotoAmt</th>\n      <th>AdoptionSpeed</th>\n    </tr>\n  </thead>\n  <tbody>\n    <tr>\n      <th>0</th>\n      <td>Cat</td>\n      <td>Nibble</td>\n      <td>3</td>\n      <td>Tabby</td>\n      <td>None</td>\n      <td>Male</td>\n      <td>1</td>\n      <td>7</td>\n      <td>0</td>\n      <td>Small</td>\n      <td>...</td>\n      <td>Healthy</td>\n      <td>1</td>\n      <td>100</td>\n      <td>41326</td>\n      <td>8480853f516546f6cf33aa88cd76c379</td>\n      <td>0</td>\n      <td>Nibble is a 3+ month old ball of cuteness. He ...</td>\n      <td>86e1089a3</td>\n      <td>1.0</td>\n      <td>8-30 Days</td>\n    </tr>\n    <tr>\n      <th>1</th>\n      <td>Cat</td>\n      <td>No Name Yet</td>\n      <td>1</td>\n      <td>Domestic Medium Hair</td>\n      <td>None</td>\n      <td>Male</td>\n      <td>1</td>\n      <td>2</td>\n      <td>0</td>\n      <td>Medium</td>\n      <td>...</td>\n      <td>Healthy</td>\n      <td>1</td>\n      <td>0</td>\n      <td>41401</td>\n      <td>3082c7125d8fb66f7dd4bff4192c8b14</td>\n      <td>0</td>\n      <td>I just found it alone yesterday near my apartm...</td>\n      <td>6296e909a</td>\n      <td>2.0</td>\n      <td>Same Day</td>\n    </tr>\n    <tr>\n      <th>2</th>\n      <td>Dog</td>\n      <td>Brisco</td>\n      <td>1</td>\n      <td>Mixed Breed</td>\n      <td>None</td>\n      <td>Male</td>\n      <td>2</td>\n      <td>7</td>\n      <td>0</td>\n      <td>Medium</td>\n      <td>...</td>\n      <td>Healthy</td>\n      <td>1</td>\n      <td>0</td>\n      <td>41326</td>\n      <td>fa90fa5b1ee11c86938398b60abc32cb</td>\n      <td>0</td>\n      <td>Their pregnant mother was dumped by her irresp...</td>\n      <td>3422e4906</td>\n      <td>7.0</td>\n      <td>31-90 Days</td>\n    </tr>\n    <tr>\n      <th>3</th>\n      <td>Dog</td>\n      <td>Miko</td>\n      <td>4</td>\n      <td>Mixed Breed</td>\n      <td>None</td>\n      <td>Female</td>\n      <td>1</td>\n      <td>2</td>\n      <td>0</td>\n      <td>Medium</td>\n      <td>...</td>\n      <td>Healthy</td>\n      <td>1</td>\n      <td>150</td>\n      <td>41401</td>\n      <td>9238e4f44c71a75282e62f7136c6b240</td>\n      <td>0</td>\n      <td>Good guard dog, very alert, active, obedience ...</td>\n      <td>5842f1ff5</td>\n      <td>8.0</td>\n      <td>8-30 Days</td>\n    </tr>\n    <tr>\n      <th>4</th>\n      <td>Dog</td>\n      <td>Hunter</td>\n      <td>1</td>\n      <td>Mixed Breed</td>\n      <td>None</td>\n      <td>Male</td>\n      <td>1</td>\n      <td>0</td>\n      <td>0</td>\n      <td>Medium</td>\n      <td>...</td>\n      <td>Healthy</td>\n      <td>1</td>\n      <td>0</td>\n      <td>41326</td>\n      <td>95481e953f8aed9ec3d16fc4509537e8</td>\n      <td>0</td>\n      <td>This handsome yet cute boy is up for adoption....</td>\n      <td>850a43f90</td>\n      <td>3.0</td>\n      <td>8-30 Days</td>\n    </tr>\n    <tr>\n      <th>...</th>\n      <td>...</td>\n      <td>...</td>\n      <td>...</td>\n      <td>...</td>\n      <td>...</td>\n      <td>...</td>\n      <td>...</td>\n      <td>...</td>\n      <td>...</td>\n      <td>...</td>\n      <td>...</td>\n      <td>...</td>\n      <td>...</td>\n      <td>...</td>\n      <td>...</td>\n      <td>...</td>\n      <td>...</td>\n      <td>...</td>\n      <td>...</td>\n      <td>...</td>\n      <td>...</td>\n    </tr>\n    <tr>\n      <th>14988</th>\n      <td>Cat</td>\n      <td>NaN</td>\n      <td>2</td>\n      <td>Domestic Short Hair</td>\n      <td>None</td>\n      <td>Mixed</td>\n      <td>1</td>\n      <td>0</td>\n      <td>0</td>\n      <td>Medium</td>\n      <td>...</td>\n      <td>Healthy</td>\n      <td>4</td>\n      <td>0</td>\n      <td>41326</td>\n      <td>61c84bd7bcb6fb31d2d480b1bcf9682e</td>\n      <td>0</td>\n      <td>I have 4 kittens that need to be adopt urgentl...</td>\n      <td>dc0935a84</td>\n      <td>3.0</td>\n      <td>8-30 Days</td>\n    </tr>\n    <tr>\n      <th>14989</th>\n      <td>Cat</td>\n      <td>Serato &amp; Eddie</td>\n      <td>60</td>\n      <td>Domestic Medium Hair</td>\n      <td>Domestic Long Hair</td>\n      <td>Mixed</td>\n      <td>1</td>\n      <td>4</td>\n      <td>7</td>\n      <td>Medium</td>\n      <td>...</td>\n      <td>Healthy</td>\n      <td>2</td>\n      <td>0</td>\n      <td>41326</td>\n      <td>1d5096c4a5e159a3b750c5cfcf6ceabf</td>\n      <td>0</td>\n      <td>Serato(female cat- 3 color) is 4 years old and...</td>\n      <td>a01ab5b30</td>\n      <td>3.0</td>\n      <td>Over 100 Days</td>\n    </tr>\n    <tr>\n      <th>14990</th>\n      <td>Cat</td>\n      <td>Monkies</td>\n      <td>2</td>\n      <td>Domestic Medium Hair</td>\n      <td>Domestic Short Hair</td>\n      <td>Mixed</td>\n      <td>5</td>\n      <td>6</td>\n      <td>7</td>\n      <td>Large</td>\n      <td>...</td>\n      <td>Healthy</td>\n      <td>5</td>\n      <td>30</td>\n      <td>41326</td>\n      <td>6f40a7acfad5cc0bb3e44591ea446c05</td>\n      <td>0</td>\n      <td>Mix breed, good temperament kittens. Love huma...</td>\n      <td>d981b6395</td>\n      <td>5.0</td>\n      <td>31-90 Days</td>\n    </tr>\n    <tr>\n      <th>14991</th>\n      <td>Cat</td>\n      <td>Ms Daym</td>\n      <td>9</td>\n      <td>Domestic Short Hair</td>\n      <td>None</td>\n      <td>Female</td>\n      <td>4</td>\n      <td>7</td>\n      <td>0</td>\n      <td>Small</td>\n      <td>...</td>\n      <td>Healthy</td>\n      <td>1</td>\n      <td>0</td>\n      <td>41336</td>\n      <td>c311c0c569245baa147d91fa4e351ae4</td>\n      <td>0</td>\n      <td>she is very shy..adventures and independent..s...</td>\n      <td>e4da1c9e4</td>\n      <td>3.0</td>\n      <td>Over 100 Days</td>\n    </tr>\n    <tr>\n      <th>14992</th>\n      <td>Dog</td>\n      <td>Fili</td>\n      <td>1</td>\n      <td>Mixed Breed</td>\n      <td>Mixed Breed</td>\n      <td>Male</td>\n      <td>2</td>\n      <td>0</td>\n      <td>0</td>\n      <td>Medium</td>\n      <td>...</td>\n      <td>Healthy</td>\n      <td>1</td>\n      <td>0</td>\n      <td>41332</td>\n      <td>9ed1d5493d223eaa5024c1a031dbc9c2</td>\n      <td>0</td>\n      <td>Fili just loves laying around and also loves b...</td>\n      <td>a83d95ead</td>\n      <td>1.0</td>\n      <td>31-90 Days</td>\n    </tr>\n  </tbody>\n</table>\n<p>14993 rows × 24 columns</p>\n</div>"
     },
     "execution_count": 7,
     "metadata": {},
     "output_type": "execute_result"
    }
   ],
   "source": [
    "df\n"
   ],
   "metadata": {
    "collapsed": false,
    "ExecuteTime": {
     "end_time": "2025-06-02T21:01:35.922212700Z",
     "start_time": "2025-06-02T21:01:35.872061300Z"
    }
   },
   "id": "9f407a6066480523"
  },
  {
   "cell_type": "code",
   "execution_count": 8,
   "outputs": [],
   "source": [
    "# Load color labels\n",
    "color_labels = pd.read_csv('./data/ColorLabels.csv')\n",
    "color_map = dict(zip(color_labels['ColorID'], color_labels['ColorName']))\n",
    "\n",
    "# Map Color1, Color2, and Color3\n",
    "df['Color1'] = df['Color1'].map(color_map)\n",
    "df['Color2'] = df['Color2'].map(color_map).fillna('None')\n",
    "df['Color3'] = df['Color3'].map(color_map).fillna('None')"
   ],
   "metadata": {
    "collapsed": false,
    "ExecuteTime": {
     "end_time": "2025-06-02T21:07:37.099197700Z",
     "start_time": "2025-06-02T21:07:37.062208400Z"
    }
   },
   "id": "5a24b1cbf98ab13f"
  },
  {
   "cell_type": "code",
   "execution_count": 9,
   "outputs": [
    {
     "data": {
      "text/plain": "      Type            Name  Age                Breed1               Breed2  \\\n0      Cat          Nibble    3                 Tabby                 None   \n1      Cat     No Name Yet    1  Domestic Medium Hair                 None   \n2      Dog          Brisco    1           Mixed Breed                 None   \n3      Dog            Miko    4           Mixed Breed                 None   \n4      Dog          Hunter    1           Mixed Breed                 None   \n...    ...             ...  ...                   ...                  ...   \n14988  Cat             NaN    2   Domestic Short Hair                 None   \n14989  Cat  Serato & Eddie   60  Domestic Medium Hair   Domestic Long Hair   \n14990  Cat         Monkies    2  Domestic Medium Hair  Domestic Short Hair   \n14991  Cat         Ms Daym    9   Domestic Short Hair                 None   \n14992  Dog            Fili    1           Mixed Breed          Mixed Breed   \n\n       Gender  Color1  Color2 Color3 MaturitySize  ...   Health Quantity  Fee  \\\n0        Male   Black   White   None        Small  ...  Healthy        1  100   \n1        Male   Black   Brown   None       Medium  ...  Healthy        1    0   \n2        Male   Brown   White   None       Medium  ...  Healthy        1    0   \n3      Female   Black   Brown   None       Medium  ...  Healthy        1  150   \n4        Male   Black    None   None       Medium  ...  Healthy        1    0   \n...       ...     ...     ...    ...          ...  ...      ...      ...  ...   \n14988   Mixed   Black    None   None       Medium  ...  Healthy        4    0   \n14989   Mixed   Black  Yellow  White       Medium  ...  Healthy        2    0   \n14990   Mixed   Cream    Gray  White        Large  ...  Healthy        5   30   \n14991  Female  Yellow   White   None        Small  ...  Healthy        1    0   \n14992    Male   Brown    None   None       Medium  ...  Healthy        1    0   \n\n       State                         RescuerID  VideoAmt  \\\n0      41326  8480853f516546f6cf33aa88cd76c379         0   \n1      41401  3082c7125d8fb66f7dd4bff4192c8b14         0   \n2      41326  fa90fa5b1ee11c86938398b60abc32cb         0   \n3      41401  9238e4f44c71a75282e62f7136c6b240         0   \n4      41326  95481e953f8aed9ec3d16fc4509537e8         0   \n...      ...                               ...       ...   \n14988  41326  61c84bd7bcb6fb31d2d480b1bcf9682e         0   \n14989  41326  1d5096c4a5e159a3b750c5cfcf6ceabf         0   \n14990  41326  6f40a7acfad5cc0bb3e44591ea446c05         0   \n14991  41336  c311c0c569245baa147d91fa4e351ae4         0   \n14992  41332  9ed1d5493d223eaa5024c1a031dbc9c2         0   \n\n                                             Description      PetID PhotoAmt  \\\n0      Nibble is a 3+ month old ball of cuteness. He ...  86e1089a3      1.0   \n1      I just found it alone yesterday near my apartm...  6296e909a      2.0   \n2      Their pregnant mother was dumped by her irresp...  3422e4906      7.0   \n3      Good guard dog, very alert, active, obedience ...  5842f1ff5      8.0   \n4      This handsome yet cute boy is up for adoption....  850a43f90      3.0   \n...                                                  ...        ...      ...   \n14988  I have 4 kittens that need to be adopt urgentl...  dc0935a84      3.0   \n14989  Serato(female cat- 3 color) is 4 years old and...  a01ab5b30      3.0   \n14990  Mix breed, good temperament kittens. Love huma...  d981b6395      5.0   \n14991  she is very shy..adventures and independent..s...  e4da1c9e4      3.0   \n14992  Fili just loves laying around and also loves b...  a83d95ead      1.0   \n\n       AdoptionSpeed  \n0          8-30 Days  \n1           Same Day  \n2         31-90 Days  \n3          8-30 Days  \n4          8-30 Days  \n...              ...  \n14988      8-30 Days  \n14989  Over 100 Days  \n14990     31-90 Days  \n14991  Over 100 Days  \n14992     31-90 Days  \n\n[14993 rows x 24 columns]",
      "text/html": "<div>\n<style scoped>\n    .dataframe tbody tr th:only-of-type {\n        vertical-align: middle;\n    }\n\n    .dataframe tbody tr th {\n        vertical-align: top;\n    }\n\n    .dataframe thead th {\n        text-align: right;\n    }\n</style>\n<table border=\"1\" class=\"dataframe\">\n  <thead>\n    <tr style=\"text-align: right;\">\n      <th></th>\n      <th>Type</th>\n      <th>Name</th>\n      <th>Age</th>\n      <th>Breed1</th>\n      <th>Breed2</th>\n      <th>Gender</th>\n      <th>Color1</th>\n      <th>Color2</th>\n      <th>Color3</th>\n      <th>MaturitySize</th>\n      <th>...</th>\n      <th>Health</th>\n      <th>Quantity</th>\n      <th>Fee</th>\n      <th>State</th>\n      <th>RescuerID</th>\n      <th>VideoAmt</th>\n      <th>Description</th>\n      <th>PetID</th>\n      <th>PhotoAmt</th>\n      <th>AdoptionSpeed</th>\n    </tr>\n  </thead>\n  <tbody>\n    <tr>\n      <th>0</th>\n      <td>Cat</td>\n      <td>Nibble</td>\n      <td>3</td>\n      <td>Tabby</td>\n      <td>None</td>\n      <td>Male</td>\n      <td>Black</td>\n      <td>White</td>\n      <td>None</td>\n      <td>Small</td>\n      <td>...</td>\n      <td>Healthy</td>\n      <td>1</td>\n      <td>100</td>\n      <td>41326</td>\n      <td>8480853f516546f6cf33aa88cd76c379</td>\n      <td>0</td>\n      <td>Nibble is a 3+ month old ball of cuteness. He ...</td>\n      <td>86e1089a3</td>\n      <td>1.0</td>\n      <td>8-30 Days</td>\n    </tr>\n    <tr>\n      <th>1</th>\n      <td>Cat</td>\n      <td>No Name Yet</td>\n      <td>1</td>\n      <td>Domestic Medium Hair</td>\n      <td>None</td>\n      <td>Male</td>\n      <td>Black</td>\n      <td>Brown</td>\n      <td>None</td>\n      <td>Medium</td>\n      <td>...</td>\n      <td>Healthy</td>\n      <td>1</td>\n      <td>0</td>\n      <td>41401</td>\n      <td>3082c7125d8fb66f7dd4bff4192c8b14</td>\n      <td>0</td>\n      <td>I just found it alone yesterday near my apartm...</td>\n      <td>6296e909a</td>\n      <td>2.0</td>\n      <td>Same Day</td>\n    </tr>\n    <tr>\n      <th>2</th>\n      <td>Dog</td>\n      <td>Brisco</td>\n      <td>1</td>\n      <td>Mixed Breed</td>\n      <td>None</td>\n      <td>Male</td>\n      <td>Brown</td>\n      <td>White</td>\n      <td>None</td>\n      <td>Medium</td>\n      <td>...</td>\n      <td>Healthy</td>\n      <td>1</td>\n      <td>0</td>\n      <td>41326</td>\n      <td>fa90fa5b1ee11c86938398b60abc32cb</td>\n      <td>0</td>\n      <td>Their pregnant mother was dumped by her irresp...</td>\n      <td>3422e4906</td>\n      <td>7.0</td>\n      <td>31-90 Days</td>\n    </tr>\n    <tr>\n      <th>3</th>\n      <td>Dog</td>\n      <td>Miko</td>\n      <td>4</td>\n      <td>Mixed Breed</td>\n      <td>None</td>\n      <td>Female</td>\n      <td>Black</td>\n      <td>Brown</td>\n      <td>None</td>\n      <td>Medium</td>\n      <td>...</td>\n      <td>Healthy</td>\n      <td>1</td>\n      <td>150</td>\n      <td>41401</td>\n      <td>9238e4f44c71a75282e62f7136c6b240</td>\n      <td>0</td>\n      <td>Good guard dog, very alert, active, obedience ...</td>\n      <td>5842f1ff5</td>\n      <td>8.0</td>\n      <td>8-30 Days</td>\n    </tr>\n    <tr>\n      <th>4</th>\n      <td>Dog</td>\n      <td>Hunter</td>\n      <td>1</td>\n      <td>Mixed Breed</td>\n      <td>None</td>\n      <td>Male</td>\n      <td>Black</td>\n      <td>None</td>\n      <td>None</td>\n      <td>Medium</td>\n      <td>...</td>\n      <td>Healthy</td>\n      <td>1</td>\n      <td>0</td>\n      <td>41326</td>\n      <td>95481e953f8aed9ec3d16fc4509537e8</td>\n      <td>0</td>\n      <td>This handsome yet cute boy is up for adoption....</td>\n      <td>850a43f90</td>\n      <td>3.0</td>\n      <td>8-30 Days</td>\n    </tr>\n    <tr>\n      <th>...</th>\n      <td>...</td>\n      <td>...</td>\n      <td>...</td>\n      <td>...</td>\n      <td>...</td>\n      <td>...</td>\n      <td>...</td>\n      <td>...</td>\n      <td>...</td>\n      <td>...</td>\n      <td>...</td>\n      <td>...</td>\n      <td>...</td>\n      <td>...</td>\n      <td>...</td>\n      <td>...</td>\n      <td>...</td>\n      <td>...</td>\n      <td>...</td>\n      <td>...</td>\n      <td>...</td>\n    </tr>\n    <tr>\n      <th>14988</th>\n      <td>Cat</td>\n      <td>NaN</td>\n      <td>2</td>\n      <td>Domestic Short Hair</td>\n      <td>None</td>\n      <td>Mixed</td>\n      <td>Black</td>\n      <td>None</td>\n      <td>None</td>\n      <td>Medium</td>\n      <td>...</td>\n      <td>Healthy</td>\n      <td>4</td>\n      <td>0</td>\n      <td>41326</td>\n      <td>61c84bd7bcb6fb31d2d480b1bcf9682e</td>\n      <td>0</td>\n      <td>I have 4 kittens that need to be adopt urgentl...</td>\n      <td>dc0935a84</td>\n      <td>3.0</td>\n      <td>8-30 Days</td>\n    </tr>\n    <tr>\n      <th>14989</th>\n      <td>Cat</td>\n      <td>Serato &amp; Eddie</td>\n      <td>60</td>\n      <td>Domestic Medium Hair</td>\n      <td>Domestic Long Hair</td>\n      <td>Mixed</td>\n      <td>Black</td>\n      <td>Yellow</td>\n      <td>White</td>\n      <td>Medium</td>\n      <td>...</td>\n      <td>Healthy</td>\n      <td>2</td>\n      <td>0</td>\n      <td>41326</td>\n      <td>1d5096c4a5e159a3b750c5cfcf6ceabf</td>\n      <td>0</td>\n      <td>Serato(female cat- 3 color) is 4 years old and...</td>\n      <td>a01ab5b30</td>\n      <td>3.0</td>\n      <td>Over 100 Days</td>\n    </tr>\n    <tr>\n      <th>14990</th>\n      <td>Cat</td>\n      <td>Monkies</td>\n      <td>2</td>\n      <td>Domestic Medium Hair</td>\n      <td>Domestic Short Hair</td>\n      <td>Mixed</td>\n      <td>Cream</td>\n      <td>Gray</td>\n      <td>White</td>\n      <td>Large</td>\n      <td>...</td>\n      <td>Healthy</td>\n      <td>5</td>\n      <td>30</td>\n      <td>41326</td>\n      <td>6f40a7acfad5cc0bb3e44591ea446c05</td>\n      <td>0</td>\n      <td>Mix breed, good temperament kittens. Love huma...</td>\n      <td>d981b6395</td>\n      <td>5.0</td>\n      <td>31-90 Days</td>\n    </tr>\n    <tr>\n      <th>14991</th>\n      <td>Cat</td>\n      <td>Ms Daym</td>\n      <td>9</td>\n      <td>Domestic Short Hair</td>\n      <td>None</td>\n      <td>Female</td>\n      <td>Yellow</td>\n      <td>White</td>\n      <td>None</td>\n      <td>Small</td>\n      <td>...</td>\n      <td>Healthy</td>\n      <td>1</td>\n      <td>0</td>\n      <td>41336</td>\n      <td>c311c0c569245baa147d91fa4e351ae4</td>\n      <td>0</td>\n      <td>she is very shy..adventures and independent..s...</td>\n      <td>e4da1c9e4</td>\n      <td>3.0</td>\n      <td>Over 100 Days</td>\n    </tr>\n    <tr>\n      <th>14992</th>\n      <td>Dog</td>\n      <td>Fili</td>\n      <td>1</td>\n      <td>Mixed Breed</td>\n      <td>Mixed Breed</td>\n      <td>Male</td>\n      <td>Brown</td>\n      <td>None</td>\n      <td>None</td>\n      <td>Medium</td>\n      <td>...</td>\n      <td>Healthy</td>\n      <td>1</td>\n      <td>0</td>\n      <td>41332</td>\n      <td>9ed1d5493d223eaa5024c1a031dbc9c2</td>\n      <td>0</td>\n      <td>Fili just loves laying around and also loves b...</td>\n      <td>a83d95ead</td>\n      <td>1.0</td>\n      <td>31-90 Days</td>\n    </tr>\n  </tbody>\n</table>\n<p>14993 rows × 24 columns</p>\n</div>"
     },
     "execution_count": 9,
     "metadata": {},
     "output_type": "execute_result"
    }
   ],
   "source": [
    "df"
   ],
   "metadata": {
    "collapsed": false,
    "ExecuteTime": {
     "end_time": "2025-06-02T21:07:41.265371700Z",
     "start_time": "2025-06-02T21:07:41.209883700Z"
    }
   },
   "id": "88f6d3facb6d8a3b"
  },
  {
   "cell_type": "code",
   "execution_count": 15,
   "outputs": [
    {
     "data": {
      "text/plain": "State\nGdańsk               8714\nGdynia               3845\nSłupsk                843\nTczew                 507\nRumia                 420\nWejherowo             253\nStarogard Gdański     137\nChojnice              110\nKwidzyn                85\nMalbork                26\nLębork                 22\nPruszcz Gdański        15\nSopot                  13\nReda                    3\nName: count, dtype: int64"
     },
     "execution_count": 15,
     "metadata": {},
     "output_type": "execute_result"
    }
   ],
   "source": [
    "df['State'].value_counts()"
   ],
   "metadata": {
    "collapsed": false,
    "ExecuteTime": {
     "end_time": "2025-06-02T21:27:45.064972100Z",
     "start_time": "2025-06-02T21:27:45.056160Z"
    }
   },
   "id": "e8ec7ec413676542"
  },
  {
   "cell_type": "code",
   "execution_count": 13,
   "outputs": [],
   "source": [
    "# Load and map state labels\n",
    "state_labels = pd.read_csv('./data/StateLabels.csv')\n",
    "state_map = dict(zip(state_labels['StateID'], state_labels['StateName']))\n",
    "df['State'] = df['State'].map(state_map)"
   ],
   "metadata": {
    "collapsed": false,
    "ExecuteTime": {
     "end_time": "2025-06-02T21:27:31.214483900Z",
     "start_time": "2025-06-02T21:27:31.185442400Z"
    }
   },
   "id": "20e0a6a500414721"
  },
  {
   "cell_type": "code",
   "execution_count": 14,
   "outputs": [
    {
     "data": {
      "text/plain": "      Type            Name  Age                Breed1               Breed2  \\\n0      Cat          Nibble    3                 Tabby                 None   \n1      Cat     No Name Yet    1  Domestic Medium Hair                 None   \n2      Dog          Brisco    1           Mixed Breed                 None   \n3      Dog            Miko    4           Mixed Breed                 None   \n4      Dog          Hunter    1           Mixed Breed                 None   \n...    ...             ...  ...                   ...                  ...   \n14988  Cat             NaN    2   Domestic Short Hair                 None   \n14989  Cat  Serato & Eddie   60  Domestic Medium Hair   Domestic Long Hair   \n14990  Cat         Monkies    2  Domestic Medium Hair  Domestic Short Hair   \n14991  Cat         Ms Daym    9   Domestic Short Hair                 None   \n14992  Dog            Fili    1           Mixed Breed          Mixed Breed   \n\n       Gender  Color1  Color2 Color3 MaturitySize  ...   Health Quantity  Fee  \\\n0        Male   Black   White   None        Small  ...  Healthy        1  100   \n1        Male   Black   Brown   None       Medium  ...  Healthy        1    0   \n2        Male   Brown   White   None       Medium  ...  Healthy        1    0   \n3      Female   Black   Brown   None       Medium  ...  Healthy        1  150   \n4        Male   Black    None   None       Medium  ...  Healthy        1    0   \n...       ...     ...     ...    ...          ...  ...      ...      ...  ...   \n14988   Mixed   Black    None   None       Medium  ...  Healthy        4    0   \n14989   Mixed   Black  Yellow  White       Medium  ...  Healthy        2    0   \n14990   Mixed   Cream    Gray  White        Large  ...  Healthy        5   30   \n14991  Female  Yellow   White   None        Small  ...  Healthy        1    0   \n14992    Male   Brown    None   None       Medium  ...  Healthy        1    0   \n\n           State                         RescuerID  VideoAmt  \\\n0         Gdańsk  8480853f516546f6cf33aa88cd76c379         0   \n1         Gdynia  3082c7125d8fb66f7dd4bff4192c8b14         0   \n2         Gdańsk  fa90fa5b1ee11c86938398b60abc32cb         0   \n3         Gdynia  9238e4f44c71a75282e62f7136c6b240         0   \n4         Gdańsk  95481e953f8aed9ec3d16fc4509537e8         0   \n...          ...                               ...       ...   \n14988     Gdańsk  61c84bd7bcb6fb31d2d480b1bcf9682e         0   \n14989     Gdańsk  1d5096c4a5e159a3b750c5cfcf6ceabf         0   \n14990     Gdańsk  6f40a7acfad5cc0bb3e44591ea446c05         0   \n14991      Tczew  c311c0c569245baa147d91fa4e351ae4         0   \n14992  Wejherowo  9ed1d5493d223eaa5024c1a031dbc9c2         0   \n\n                                             Description      PetID PhotoAmt  \\\n0      Nibble is a 3+ month old ball of cuteness. He ...  86e1089a3      1.0   \n1      I just found it alone yesterday near my apartm...  6296e909a      2.0   \n2      Their pregnant mother was dumped by her irresp...  3422e4906      7.0   \n3      Good guard dog, very alert, active, obedience ...  5842f1ff5      8.0   \n4      This handsome yet cute boy is up for adoption....  850a43f90      3.0   \n...                                                  ...        ...      ...   \n14988  I have 4 kittens that need to be adopt urgentl...  dc0935a84      3.0   \n14989  Serato(female cat- 3 color) is 4 years old and...  a01ab5b30      3.0   \n14990  Mix breed, good temperament kittens. Love huma...  d981b6395      5.0   \n14991  she is very shy..adventures and independent..s...  e4da1c9e4      3.0   \n14992  Fili just loves laying around and also loves b...  a83d95ead      1.0   \n\n       AdoptionSpeed  \n0          8-30 Days  \n1           Same Day  \n2         31-90 Days  \n3          8-30 Days  \n4          8-30 Days  \n...              ...  \n14988      8-30 Days  \n14989  Over 100 Days  \n14990     31-90 Days  \n14991  Over 100 Days  \n14992     31-90 Days  \n\n[14993 rows x 24 columns]",
      "text/html": "<div>\n<style scoped>\n    .dataframe tbody tr th:only-of-type {\n        vertical-align: middle;\n    }\n\n    .dataframe tbody tr th {\n        vertical-align: top;\n    }\n\n    .dataframe thead th {\n        text-align: right;\n    }\n</style>\n<table border=\"1\" class=\"dataframe\">\n  <thead>\n    <tr style=\"text-align: right;\">\n      <th></th>\n      <th>Type</th>\n      <th>Name</th>\n      <th>Age</th>\n      <th>Breed1</th>\n      <th>Breed2</th>\n      <th>Gender</th>\n      <th>Color1</th>\n      <th>Color2</th>\n      <th>Color3</th>\n      <th>MaturitySize</th>\n      <th>...</th>\n      <th>Health</th>\n      <th>Quantity</th>\n      <th>Fee</th>\n      <th>State</th>\n      <th>RescuerID</th>\n      <th>VideoAmt</th>\n      <th>Description</th>\n      <th>PetID</th>\n      <th>PhotoAmt</th>\n      <th>AdoptionSpeed</th>\n    </tr>\n  </thead>\n  <tbody>\n    <tr>\n      <th>0</th>\n      <td>Cat</td>\n      <td>Nibble</td>\n      <td>3</td>\n      <td>Tabby</td>\n      <td>None</td>\n      <td>Male</td>\n      <td>Black</td>\n      <td>White</td>\n      <td>None</td>\n      <td>Small</td>\n      <td>...</td>\n      <td>Healthy</td>\n      <td>1</td>\n      <td>100</td>\n      <td>Gdańsk</td>\n      <td>8480853f516546f6cf33aa88cd76c379</td>\n      <td>0</td>\n      <td>Nibble is a 3+ month old ball of cuteness. He ...</td>\n      <td>86e1089a3</td>\n      <td>1.0</td>\n      <td>8-30 Days</td>\n    </tr>\n    <tr>\n      <th>1</th>\n      <td>Cat</td>\n      <td>No Name Yet</td>\n      <td>1</td>\n      <td>Domestic Medium Hair</td>\n      <td>None</td>\n      <td>Male</td>\n      <td>Black</td>\n      <td>Brown</td>\n      <td>None</td>\n      <td>Medium</td>\n      <td>...</td>\n      <td>Healthy</td>\n      <td>1</td>\n      <td>0</td>\n      <td>Gdynia</td>\n      <td>3082c7125d8fb66f7dd4bff4192c8b14</td>\n      <td>0</td>\n      <td>I just found it alone yesterday near my apartm...</td>\n      <td>6296e909a</td>\n      <td>2.0</td>\n      <td>Same Day</td>\n    </tr>\n    <tr>\n      <th>2</th>\n      <td>Dog</td>\n      <td>Brisco</td>\n      <td>1</td>\n      <td>Mixed Breed</td>\n      <td>None</td>\n      <td>Male</td>\n      <td>Brown</td>\n      <td>White</td>\n      <td>None</td>\n      <td>Medium</td>\n      <td>...</td>\n      <td>Healthy</td>\n      <td>1</td>\n      <td>0</td>\n      <td>Gdańsk</td>\n      <td>fa90fa5b1ee11c86938398b60abc32cb</td>\n      <td>0</td>\n      <td>Their pregnant mother was dumped by her irresp...</td>\n      <td>3422e4906</td>\n      <td>7.0</td>\n      <td>31-90 Days</td>\n    </tr>\n    <tr>\n      <th>3</th>\n      <td>Dog</td>\n      <td>Miko</td>\n      <td>4</td>\n      <td>Mixed Breed</td>\n      <td>None</td>\n      <td>Female</td>\n      <td>Black</td>\n      <td>Brown</td>\n      <td>None</td>\n      <td>Medium</td>\n      <td>...</td>\n      <td>Healthy</td>\n      <td>1</td>\n      <td>150</td>\n      <td>Gdynia</td>\n      <td>9238e4f44c71a75282e62f7136c6b240</td>\n      <td>0</td>\n      <td>Good guard dog, very alert, active, obedience ...</td>\n      <td>5842f1ff5</td>\n      <td>8.0</td>\n      <td>8-30 Days</td>\n    </tr>\n    <tr>\n      <th>4</th>\n      <td>Dog</td>\n      <td>Hunter</td>\n      <td>1</td>\n      <td>Mixed Breed</td>\n      <td>None</td>\n      <td>Male</td>\n      <td>Black</td>\n      <td>None</td>\n      <td>None</td>\n      <td>Medium</td>\n      <td>...</td>\n      <td>Healthy</td>\n      <td>1</td>\n      <td>0</td>\n      <td>Gdańsk</td>\n      <td>95481e953f8aed9ec3d16fc4509537e8</td>\n      <td>0</td>\n      <td>This handsome yet cute boy is up for adoption....</td>\n      <td>850a43f90</td>\n      <td>3.0</td>\n      <td>8-30 Days</td>\n    </tr>\n    <tr>\n      <th>...</th>\n      <td>...</td>\n      <td>...</td>\n      <td>...</td>\n      <td>...</td>\n      <td>...</td>\n      <td>...</td>\n      <td>...</td>\n      <td>...</td>\n      <td>...</td>\n      <td>...</td>\n      <td>...</td>\n      <td>...</td>\n      <td>...</td>\n      <td>...</td>\n      <td>...</td>\n      <td>...</td>\n      <td>...</td>\n      <td>...</td>\n      <td>...</td>\n      <td>...</td>\n      <td>...</td>\n    </tr>\n    <tr>\n      <th>14988</th>\n      <td>Cat</td>\n      <td>NaN</td>\n      <td>2</td>\n      <td>Domestic Short Hair</td>\n      <td>None</td>\n      <td>Mixed</td>\n      <td>Black</td>\n      <td>None</td>\n      <td>None</td>\n      <td>Medium</td>\n      <td>...</td>\n      <td>Healthy</td>\n      <td>4</td>\n      <td>0</td>\n      <td>Gdańsk</td>\n      <td>61c84bd7bcb6fb31d2d480b1bcf9682e</td>\n      <td>0</td>\n      <td>I have 4 kittens that need to be adopt urgentl...</td>\n      <td>dc0935a84</td>\n      <td>3.0</td>\n      <td>8-30 Days</td>\n    </tr>\n    <tr>\n      <th>14989</th>\n      <td>Cat</td>\n      <td>Serato &amp; Eddie</td>\n      <td>60</td>\n      <td>Domestic Medium Hair</td>\n      <td>Domestic Long Hair</td>\n      <td>Mixed</td>\n      <td>Black</td>\n      <td>Yellow</td>\n      <td>White</td>\n      <td>Medium</td>\n      <td>...</td>\n      <td>Healthy</td>\n      <td>2</td>\n      <td>0</td>\n      <td>Gdańsk</td>\n      <td>1d5096c4a5e159a3b750c5cfcf6ceabf</td>\n      <td>0</td>\n      <td>Serato(female cat- 3 color) is 4 years old and...</td>\n      <td>a01ab5b30</td>\n      <td>3.0</td>\n      <td>Over 100 Days</td>\n    </tr>\n    <tr>\n      <th>14990</th>\n      <td>Cat</td>\n      <td>Monkies</td>\n      <td>2</td>\n      <td>Domestic Medium Hair</td>\n      <td>Domestic Short Hair</td>\n      <td>Mixed</td>\n      <td>Cream</td>\n      <td>Gray</td>\n      <td>White</td>\n      <td>Large</td>\n      <td>...</td>\n      <td>Healthy</td>\n      <td>5</td>\n      <td>30</td>\n      <td>Gdańsk</td>\n      <td>6f40a7acfad5cc0bb3e44591ea446c05</td>\n      <td>0</td>\n      <td>Mix breed, good temperament kittens. Love huma...</td>\n      <td>d981b6395</td>\n      <td>5.0</td>\n      <td>31-90 Days</td>\n    </tr>\n    <tr>\n      <th>14991</th>\n      <td>Cat</td>\n      <td>Ms Daym</td>\n      <td>9</td>\n      <td>Domestic Short Hair</td>\n      <td>None</td>\n      <td>Female</td>\n      <td>Yellow</td>\n      <td>White</td>\n      <td>None</td>\n      <td>Small</td>\n      <td>...</td>\n      <td>Healthy</td>\n      <td>1</td>\n      <td>0</td>\n      <td>Tczew</td>\n      <td>c311c0c569245baa147d91fa4e351ae4</td>\n      <td>0</td>\n      <td>she is very shy..adventures and independent..s...</td>\n      <td>e4da1c9e4</td>\n      <td>3.0</td>\n      <td>Over 100 Days</td>\n    </tr>\n    <tr>\n      <th>14992</th>\n      <td>Dog</td>\n      <td>Fili</td>\n      <td>1</td>\n      <td>Mixed Breed</td>\n      <td>Mixed Breed</td>\n      <td>Male</td>\n      <td>Brown</td>\n      <td>None</td>\n      <td>None</td>\n      <td>Medium</td>\n      <td>...</td>\n      <td>Healthy</td>\n      <td>1</td>\n      <td>0</td>\n      <td>Wejherowo</td>\n      <td>9ed1d5493d223eaa5024c1a031dbc9c2</td>\n      <td>0</td>\n      <td>Fili just loves laying around and also loves b...</td>\n      <td>a83d95ead</td>\n      <td>1.0</td>\n      <td>31-90 Days</td>\n    </tr>\n  </tbody>\n</table>\n<p>14993 rows × 24 columns</p>\n</div>"
     },
     "execution_count": 14,
     "metadata": {},
     "output_type": "execute_result"
    }
   ],
   "source": [
    "df\n"
   ],
   "metadata": {
    "collapsed": false,
    "ExecuteTime": {
     "end_time": "2025-06-02T21:27:35.294568600Z",
     "start_time": "2025-06-02T21:27:35.227589300Z"
    }
   },
   "id": "e7c0ce578e848d9b"
  },
  {
   "cell_type": "code",
   "execution_count": 16,
   "outputs": [],
   "source": [
    "# Select specific columns\n",
    "columns_to_save = ['Name', 'Type', 'Age', 'Breed1', 'Breed2', 'Gender', 'Color1', 'Color2', 'Color3', 'MaturitySize', 'FurLength', 'Vaccinated', 'Dewormed', 'Sterilized', 'Health', 'Quantity', 'Fee', 'State', 'RescuerID', 'Description', 'PetID', 'AdoptionSpeed']\n",
    "df_subset = df[columns_to_save]\n",
    "\n",
    "# Save to CSV\n",
    "df_subset.to_csv('./data/processed_pets.csv')"
   ],
   "metadata": {
    "collapsed": false,
    "ExecuteTime": {
     "end_time": "2025-06-02T21:34:56.654300300Z",
     "start_time": "2025-06-02T21:34:55.412519500Z"
    }
   },
   "id": "171b0c29bb5e5cf2"
  },
  {
   "cell_type": "code",
   "execution_count": 11,
   "outputs": [],
   "source": [
    "df = pd.read_csv('./data/processed_pets.csv', index_col=0)"
   ],
   "metadata": {
    "collapsed": false,
    "ExecuteTime": {
     "end_time": "2025-06-03T13:04:04.583760Z",
     "start_time": "2025-06-03T13:03:50.963644100Z"
    }
   },
   "id": "344df0f4c890956b"
  },
  {
   "cell_type": "code",
   "execution_count": 7,
   "outputs": [
    {
     "data": {
      "text/plain": "                 Name Type  Age                Breed1               Breed2  \\\n0              Nibble  Cat    3                 Tabby                 None   \n1         No Name Yet  Cat    1  Domestic Medium Hair                 None   \n2              Brisco  Dog    1           Mixed Breed                 None   \n3                Miko  Dog    4           Mixed Breed                 None   \n4              Hunter  Dog    1           Mixed Breed                 None   \n...               ...  ...  ...                   ...                  ...   \n14988             NaN  Cat    2   Domestic Short Hair                 None   \n14989  Serato & Eddie  Cat   60  Domestic Medium Hair   Domestic Long Hair   \n14990         Monkies  Cat    2  Domestic Medium Hair  Domestic Short Hair   \n14991         Ms Daym  Cat    9   Domestic Short Hair                 None   \n14992            Fili  Dog    1           Mixed Breed          Mixed Breed   \n\n       Gender  Color1  Color2 Color3 MaturitySize  ...  Dewormed Sterilized  \\\n0        Male   Black   White   None        Small  ...        No         No   \n1        Male   Black   Brown   None       Medium  ...  Not Sure   Not Sure   \n2        Male   Brown   White   None       Medium  ...       Yes         No   \n3      Female   Black   Brown   None       Medium  ...       Yes         No   \n4        Male   Black    None   None       Medium  ...        No         No   \n...       ...     ...     ...    ...          ...  ...       ...        ...   \n14988   Mixed   Black    None   None       Medium  ...        No         No   \n14989   Mixed   Black  Yellow  White       Medium  ...       Yes        Yes   \n14990   Mixed   Cream    Gray  White        Large  ...       Yes   Not Sure   \n14991  Female  Yellow   White   None        Small  ...       Yes        Yes   \n14992    Male   Brown    None   None       Medium  ...        No         No   \n\n        Health Quantity  Fee      State                         RescuerID  \\\n0      Healthy        1  100     Gdańsk  8480853f516546f6cf33aa88cd76c379   \n1      Healthy        1    0     Gdynia  3082c7125d8fb66f7dd4bff4192c8b14   \n2      Healthy        1    0     Gdańsk  fa90fa5b1ee11c86938398b60abc32cb   \n3      Healthy        1  150     Gdynia  9238e4f44c71a75282e62f7136c6b240   \n4      Healthy        1    0     Gdańsk  95481e953f8aed9ec3d16fc4509537e8   \n...        ...      ...  ...        ...                               ...   \n14988  Healthy        4    0     Gdańsk  61c84bd7bcb6fb31d2d480b1bcf9682e   \n14989  Healthy        2    0     Gdańsk  1d5096c4a5e159a3b750c5cfcf6ceabf   \n14990  Healthy        5   30     Gdańsk  6f40a7acfad5cc0bb3e44591ea446c05   \n14991  Healthy        1    0      Tczew  c311c0c569245baa147d91fa4e351ae4   \n14992  Healthy        1    0  Wejherowo  9ed1d5493d223eaa5024c1a031dbc9c2   \n\n                                             Description      PetID  \\\n0      Nibble is a 3+ month old ball of cuteness. He ...  86e1089a3   \n1      I just found it alone yesterday near my apartm...  6296e909a   \n2      Their pregnant mother was dumped by her irresp...  3422e4906   \n3      Good guard dog, very alert, active, obedience ...  5842f1ff5   \n4      This handsome yet cute boy is up for adoption....  850a43f90   \n...                                                  ...        ...   \n14988  I have 4 kittens that need to be adopt urgentl...  dc0935a84   \n14989  Serato(female cat- 3 color) is 4 years old and...  a01ab5b30   \n14990  Mix breed, good temperament kittens. Love huma...  d981b6395   \n14991  she is very shy..adventures and independent..s...  e4da1c9e4   \n14992  Fili just loves laying around and also loves b...  a83d95ead   \n\n       AdoptionSpeed  \n0          8-30 Days  \n1           Same Day  \n2         31-90 Days  \n3          8-30 Days  \n4          8-30 Days  \n...              ...  \n14988      8-30 Days  \n14989  Over 100 Days  \n14990     31-90 Days  \n14991  Over 100 Days  \n14992     31-90 Days  \n\n[14993 rows x 22 columns]",
      "text/html": "<div>\n<style scoped>\n    .dataframe tbody tr th:only-of-type {\n        vertical-align: middle;\n    }\n\n    .dataframe tbody tr th {\n        vertical-align: top;\n    }\n\n    .dataframe thead th {\n        text-align: right;\n    }\n</style>\n<table border=\"1\" class=\"dataframe\">\n  <thead>\n    <tr style=\"text-align: right;\">\n      <th></th>\n      <th>Name</th>\n      <th>Type</th>\n      <th>Age</th>\n      <th>Breed1</th>\n      <th>Breed2</th>\n      <th>Gender</th>\n      <th>Color1</th>\n      <th>Color2</th>\n      <th>Color3</th>\n      <th>MaturitySize</th>\n      <th>...</th>\n      <th>Dewormed</th>\n      <th>Sterilized</th>\n      <th>Health</th>\n      <th>Quantity</th>\n      <th>Fee</th>\n      <th>State</th>\n      <th>RescuerID</th>\n      <th>Description</th>\n      <th>PetID</th>\n      <th>AdoptionSpeed</th>\n    </tr>\n  </thead>\n  <tbody>\n    <tr>\n      <th>0</th>\n      <td>Nibble</td>\n      <td>Cat</td>\n      <td>3</td>\n      <td>Tabby</td>\n      <td>None</td>\n      <td>Male</td>\n      <td>Black</td>\n      <td>White</td>\n      <td>None</td>\n      <td>Small</td>\n      <td>...</td>\n      <td>No</td>\n      <td>No</td>\n      <td>Healthy</td>\n      <td>1</td>\n      <td>100</td>\n      <td>Gdańsk</td>\n      <td>8480853f516546f6cf33aa88cd76c379</td>\n      <td>Nibble is a 3+ month old ball of cuteness. He ...</td>\n      <td>86e1089a3</td>\n      <td>8-30 Days</td>\n    </tr>\n    <tr>\n      <th>1</th>\n      <td>No Name Yet</td>\n      <td>Cat</td>\n      <td>1</td>\n      <td>Domestic Medium Hair</td>\n      <td>None</td>\n      <td>Male</td>\n      <td>Black</td>\n      <td>Brown</td>\n      <td>None</td>\n      <td>Medium</td>\n      <td>...</td>\n      <td>Not Sure</td>\n      <td>Not Sure</td>\n      <td>Healthy</td>\n      <td>1</td>\n      <td>0</td>\n      <td>Gdynia</td>\n      <td>3082c7125d8fb66f7dd4bff4192c8b14</td>\n      <td>I just found it alone yesterday near my apartm...</td>\n      <td>6296e909a</td>\n      <td>Same Day</td>\n    </tr>\n    <tr>\n      <th>2</th>\n      <td>Brisco</td>\n      <td>Dog</td>\n      <td>1</td>\n      <td>Mixed Breed</td>\n      <td>None</td>\n      <td>Male</td>\n      <td>Brown</td>\n      <td>White</td>\n      <td>None</td>\n      <td>Medium</td>\n      <td>...</td>\n      <td>Yes</td>\n      <td>No</td>\n      <td>Healthy</td>\n      <td>1</td>\n      <td>0</td>\n      <td>Gdańsk</td>\n      <td>fa90fa5b1ee11c86938398b60abc32cb</td>\n      <td>Their pregnant mother was dumped by her irresp...</td>\n      <td>3422e4906</td>\n      <td>31-90 Days</td>\n    </tr>\n    <tr>\n      <th>3</th>\n      <td>Miko</td>\n      <td>Dog</td>\n      <td>4</td>\n      <td>Mixed Breed</td>\n      <td>None</td>\n      <td>Female</td>\n      <td>Black</td>\n      <td>Brown</td>\n      <td>None</td>\n      <td>Medium</td>\n      <td>...</td>\n      <td>Yes</td>\n      <td>No</td>\n      <td>Healthy</td>\n      <td>1</td>\n      <td>150</td>\n      <td>Gdynia</td>\n      <td>9238e4f44c71a75282e62f7136c6b240</td>\n      <td>Good guard dog, very alert, active, obedience ...</td>\n      <td>5842f1ff5</td>\n      <td>8-30 Days</td>\n    </tr>\n    <tr>\n      <th>4</th>\n      <td>Hunter</td>\n      <td>Dog</td>\n      <td>1</td>\n      <td>Mixed Breed</td>\n      <td>None</td>\n      <td>Male</td>\n      <td>Black</td>\n      <td>None</td>\n      <td>None</td>\n      <td>Medium</td>\n      <td>...</td>\n      <td>No</td>\n      <td>No</td>\n      <td>Healthy</td>\n      <td>1</td>\n      <td>0</td>\n      <td>Gdańsk</td>\n      <td>95481e953f8aed9ec3d16fc4509537e8</td>\n      <td>This handsome yet cute boy is up for adoption....</td>\n      <td>850a43f90</td>\n      <td>8-30 Days</td>\n    </tr>\n    <tr>\n      <th>...</th>\n      <td>...</td>\n      <td>...</td>\n      <td>...</td>\n      <td>...</td>\n      <td>...</td>\n      <td>...</td>\n      <td>...</td>\n      <td>...</td>\n      <td>...</td>\n      <td>...</td>\n      <td>...</td>\n      <td>...</td>\n      <td>...</td>\n      <td>...</td>\n      <td>...</td>\n      <td>...</td>\n      <td>...</td>\n      <td>...</td>\n      <td>...</td>\n      <td>...</td>\n      <td>...</td>\n    </tr>\n    <tr>\n      <th>14988</th>\n      <td>NaN</td>\n      <td>Cat</td>\n      <td>2</td>\n      <td>Domestic Short Hair</td>\n      <td>None</td>\n      <td>Mixed</td>\n      <td>Black</td>\n      <td>None</td>\n      <td>None</td>\n      <td>Medium</td>\n      <td>...</td>\n      <td>No</td>\n      <td>No</td>\n      <td>Healthy</td>\n      <td>4</td>\n      <td>0</td>\n      <td>Gdańsk</td>\n      <td>61c84bd7bcb6fb31d2d480b1bcf9682e</td>\n      <td>I have 4 kittens that need to be adopt urgentl...</td>\n      <td>dc0935a84</td>\n      <td>8-30 Days</td>\n    </tr>\n    <tr>\n      <th>14989</th>\n      <td>Serato &amp; Eddie</td>\n      <td>Cat</td>\n      <td>60</td>\n      <td>Domestic Medium Hair</td>\n      <td>Domestic Long Hair</td>\n      <td>Mixed</td>\n      <td>Black</td>\n      <td>Yellow</td>\n      <td>White</td>\n      <td>Medium</td>\n      <td>...</td>\n      <td>Yes</td>\n      <td>Yes</td>\n      <td>Healthy</td>\n      <td>2</td>\n      <td>0</td>\n      <td>Gdańsk</td>\n      <td>1d5096c4a5e159a3b750c5cfcf6ceabf</td>\n      <td>Serato(female cat- 3 color) is 4 years old and...</td>\n      <td>a01ab5b30</td>\n      <td>Over 100 Days</td>\n    </tr>\n    <tr>\n      <th>14990</th>\n      <td>Monkies</td>\n      <td>Cat</td>\n      <td>2</td>\n      <td>Domestic Medium Hair</td>\n      <td>Domestic Short Hair</td>\n      <td>Mixed</td>\n      <td>Cream</td>\n      <td>Gray</td>\n      <td>White</td>\n      <td>Large</td>\n      <td>...</td>\n      <td>Yes</td>\n      <td>Not Sure</td>\n      <td>Healthy</td>\n      <td>5</td>\n      <td>30</td>\n      <td>Gdańsk</td>\n      <td>6f40a7acfad5cc0bb3e44591ea446c05</td>\n      <td>Mix breed, good temperament kittens. Love huma...</td>\n      <td>d981b6395</td>\n      <td>31-90 Days</td>\n    </tr>\n    <tr>\n      <th>14991</th>\n      <td>Ms Daym</td>\n      <td>Cat</td>\n      <td>9</td>\n      <td>Domestic Short Hair</td>\n      <td>None</td>\n      <td>Female</td>\n      <td>Yellow</td>\n      <td>White</td>\n      <td>None</td>\n      <td>Small</td>\n      <td>...</td>\n      <td>Yes</td>\n      <td>Yes</td>\n      <td>Healthy</td>\n      <td>1</td>\n      <td>0</td>\n      <td>Tczew</td>\n      <td>c311c0c569245baa147d91fa4e351ae4</td>\n      <td>she is very shy..adventures and independent..s...</td>\n      <td>e4da1c9e4</td>\n      <td>Over 100 Days</td>\n    </tr>\n    <tr>\n      <th>14992</th>\n      <td>Fili</td>\n      <td>Dog</td>\n      <td>1</td>\n      <td>Mixed Breed</td>\n      <td>Mixed Breed</td>\n      <td>Male</td>\n      <td>Brown</td>\n      <td>None</td>\n      <td>None</td>\n      <td>Medium</td>\n      <td>...</td>\n      <td>No</td>\n      <td>No</td>\n      <td>Healthy</td>\n      <td>1</td>\n      <td>0</td>\n      <td>Wejherowo</td>\n      <td>9ed1d5493d223eaa5024c1a031dbc9c2</td>\n      <td>Fili just loves laying around and also loves b...</td>\n      <td>a83d95ead</td>\n      <td>31-90 Days</td>\n    </tr>\n  </tbody>\n</table>\n<p>14993 rows × 22 columns</p>\n</div>"
     },
     "execution_count": 7,
     "metadata": {},
     "output_type": "execute_result"
    }
   ],
   "source": [
    "df"
   ],
   "metadata": {
    "collapsed": false,
    "ExecuteTime": {
     "end_time": "2025-06-03T04:35:33.365923100Z",
     "start_time": "2025-06-03T04:35:33.209508600Z"
    }
   },
   "id": "a6ec04be0b11f3d7"
  },
  {
   "cell_type": "code",
   "execution_count": 10,
   "outputs": [
    {
     "data": {
      "text/plain": "fa90fa5b1ee11c86938398b60abc32cb    459\naa66486163b6cbc25ea62a34b11c9b91    315\nc00756f2bdd8fa88fc9f07a8309f7d5d    231\nb53c34474d9e24574bcec6a3d3306a0d    228\nee2747ce26468ec44c7194e7d1d9dad9    156\n                                   ... \n89bc6d71d57ad5d7e952ed76559345c5      1\n8cfafc812c500eee7c112911ef668ce9      1\n8512e22c06a01cdc76481ff0a6e88b67      1\n48de9ff092328d54b2b371bc72b07b03      1\n79309f4027f2fedb4349a298c69fe56f      1\nName: RescuerID, Length: 5595, dtype: int64"
     },
     "execution_count": 10,
     "metadata": {},
     "output_type": "execute_result"
    }
   ],
   "source": [
    "df['RescuerID'].value_counts()"
   ],
   "metadata": {
    "collapsed": false,
    "ExecuteTime": {
     "end_time": "2025-06-03T05:19:52.000108800Z",
     "start_time": "2025-06-03T05:19:50.169023600Z"
    }
   },
   "id": "ba3ad598a25a5815"
  },
  {
   "cell_type": "code",
   "execution_count": 14,
   "outputs": [
    {
     "data": {
      "text/plain": "Over 100 Days    4197\n8-30 Days        4037\n31-90 Days       3259\n1-7 Days         3090\nSame Day          410\nName: AdoptionSpeed, dtype: int64"
     },
     "execution_count": 14,
     "metadata": {},
     "output_type": "execute_result"
    }
   ],
   "source": [
    "df['AdoptionSpeed'].value_counts()"
   ],
   "metadata": {
    "collapsed": false,
    "ExecuteTime": {
     "end_time": "2025-06-03T13:04:56.479283100Z",
     "start_time": "2025-06-03T13:04:56.425626900Z"
    }
   },
   "id": "f78b390cf98921aa"
  },
  {
   "cell_type": "code",
   "execution_count": 16,
   "outputs": [
    {
     "name": "stdout",
     "output_type": "stream",
     "text": [
      "[datetime.datetime(2023, 6, 28, 14, 14, 56), datetime.datetime(2023, 5, 6, 11, 52, 43), datetime.datetime(2023, 7, 10, 12, 6, 2), datetime.datetime(2023, 5, 17, 12, 43, 49), datetime.datetime(2025, 1, 9, 13, 8, 39), datetime.datetime(2024, 10, 29, 10, 22, 26), datetime.datetime(2024, 6, 7, 14, 15, 1), datetime.datetime(2024, 9, 19, 13, 34, 54), datetime.datetime(2023, 7, 8, 15, 25, 54), datetime.datetime(2023, 7, 6, 16, 3, 49), datetime.datetime(2025, 5, 31, 16, 2, 24), datetime.datetime(2023, 9, 27, 17, 42, 36), datetime.datetime(2024, 12, 12, 9, 47, 13), datetime.datetime(2025, 5, 28, 16, 15, 31), datetime.datetime(2024, 12, 11, 15, 59, 28), datetime.datetime(2024, 7, 9, 15, 40, 38), datetime.datetime(2023, 10, 11, 11, 14, 52), datetime.datetime(2025, 3, 1, 14, 1, 57), datetime.datetime(2023, 4, 6, 15, 23, 4), datetime.datetime(2023, 3, 31, 9, 7, 36), datetime.datetime(2023, 6, 11, 8, 32, 57), datetime.datetime(2024, 7, 12, 15, 0, 37), datetime.datetime(2024, 11, 30, 15, 58, 30), datetime.datetime(2025, 4, 3, 15, 54, 37), datetime.datetime(2023, 7, 18, 17, 15, 17), datetime.datetime(2023, 1, 16, 13, 25, 53), datetime.datetime(2024, 8, 15, 16, 12, 3), datetime.datetime(2023, 7, 8, 8, 30, 59), datetime.datetime(2023, 6, 14, 10, 38, 9), datetime.datetime(2025, 1, 15, 17, 18, 35), datetime.datetime(2024, 9, 11, 12, 26, 11), datetime.datetime(2024, 12, 14, 11, 7, 13), datetime.datetime(2023, 2, 28, 13, 31, 37), datetime.datetime(2023, 1, 15, 9, 38, 44), datetime.datetime(2024, 12, 16, 13, 58, 28), datetime.datetime(2024, 8, 12, 8, 57, 19), datetime.datetime(2025, 3, 23, 16, 58, 14), datetime.datetime(2023, 8, 29, 8, 16, 31), datetime.datetime(2023, 11, 13, 17, 58, 34), datetime.datetime(2023, 10, 22, 17, 45, 6), datetime.datetime(2023, 2, 2, 11, 8, 20), datetime.datetime(2023, 10, 22, 17, 19, 21), datetime.datetime(2023, 1, 25, 8, 24, 33), datetime.datetime(2025, 4, 1, 11, 13, 21), datetime.datetime(2025, 2, 23, 11, 47, 38), datetime.datetime(2025, 2, 7, 9, 11, 19), datetime.datetime(2024, 8, 27, 9, 6, 30), datetime.datetime(2025, 2, 5, 13, 47, 54), datetime.datetime(2023, 11, 28, 12, 14, 3), datetime.datetime(2023, 2, 10, 8, 44, 18)]\n"
     ]
    }
   ],
   "source": [
    "from datetime import datetime, timedelta\n",
    "import random\n",
    "\n",
    "def random_datetime(start_date, end_date, start_hour=8, end_hour=18):\n",
    "    delta_days = (end_date - start_date).days\n",
    "    random_day_offset = random.randint(0, delta_days)\n",
    "    random_date = start_date + timedelta(days=random_day_offset)\n",
    "    \n",
    "    # Random time between 8:00 and 18:00 (6 PM)\n",
    "    random_hour = random.randint(start_hour, end_hour - 1)\n",
    "    random_minute = random.randint(0, 59)\n",
    "    random_second = random.randint(0, 59)\n",
    "    \n",
    "    return datetime(\n",
    "        year=random_date.year,\n",
    "        month=random_date.month,\n",
    "        day=random_date.day,\n",
    "        hour=random_hour,\n",
    "        minute=random_minute,\n",
    "        second=random_second\n",
    "    )\n",
    "\n",
    "# Example usage\n",
    "start = datetime(2023, 1, 2)\n",
    "end = datetime.today()\n",
    "\n",
    "rand_dt = [random_datetime(start, end) for _ in range(50)]\n",
    "print(rand_dt)"
   ],
   "metadata": {
    "collapsed": false,
    "ExecuteTime": {
     "end_time": "2025-06-03T13:14:23.863517800Z",
     "start_time": "2025-06-03T13:14:23.754110900Z"
    }
   },
   "id": "b3645aea7ce964f8"
  },
  {
   "cell_type": "code",
   "execution_count": 17,
   "outputs": [
    {
     "data": {
      "text/plain": "datetime.datetime(2023, 6, 28, 14, 14, 56)"
     },
     "execution_count": 17,
     "metadata": {},
     "output_type": "execute_result"
    }
   ],
   "source": [
    "rand_dt[0]"
   ],
   "metadata": {
    "collapsed": false,
    "ExecuteTime": {
     "end_time": "2025-06-03T13:14:47.980655100Z",
     "start_time": "2025-06-03T13:14:47.904146100Z"
    }
   },
   "id": "64250988cd97ff0c"
  },
  {
   "cell_type": "code",
   "execution_count": null,
   "outputs": [],
   "source": [],
   "metadata": {
    "collapsed": false
   },
   "id": "973bff67c6ced92"
  }
 ],
 "metadata": {
  "kernelspec": {
   "display_name": "Python 3",
   "language": "python",
   "name": "python3"
  },
  "language_info": {
   "codemirror_mode": {
    "name": "ipython",
    "version": 2
   },
   "file_extension": ".py",
   "mimetype": "text/x-python",
   "name": "python",
   "nbconvert_exporter": "python",
   "pygments_lexer": "ipython2",
   "version": "2.7.6"
  }
 },
 "nbformat": 4,
 "nbformat_minor": 5
}
